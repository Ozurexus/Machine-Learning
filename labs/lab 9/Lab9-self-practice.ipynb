{
 "cells": [
  {
   "cell_type": "markdown",
   "metadata": {},
   "source": [
    "## Lab 9 Self practice\n",
    "\n",
    "Objectives:\n",
    "- understand the impact of number of layers in CNN, padding, strides, pooling (max vs average, etc.)"
   ]
  },
  {
   "cell_type": "markdown",
   "metadata": {},
   "source": [
    "Let's laod the required libraries and packages"
   ]
  },
  {
   "cell_type": "code",
   "execution_count": 17,
   "metadata": {},
   "outputs": [],
   "source": [
    "import numpy as np\n",
    "from tensorflow import keras\n",
    "from tensorflow.keras import layers"
   ]
  },
  {
   "cell_type": "markdown",
   "metadata": {},
   "source": [
    "We will be working on the MNSIT dataset for our experiments."
   ]
  },
  {
   "cell_type": "code",
   "execution_count": 18,
   "metadata": {},
   "outputs": [
    {
     "name": "stdout",
     "output_type": "stream",
     "text": [
      "x_train shape: (60000, 28, 28, 1)\n",
      "60000 train samples\n",
      "10000 test samples\n"
     ]
    }
   ],
   "source": [
    "# Model / data parameters\n",
    "num_classes = 10\n",
    "input_shape = (28, 28, 1)\n",
    "\n",
    "# Load the data and split it between train and test sets\n",
    "(x_train, y_train), (x_test, y_test) = keras.datasets.mnist.load_data()\n",
    "\n",
    "# Scale images to the [0, 1] range\n",
    "x_train = x_train.astype(\"float32\") / 255\n",
    "x_test = x_test.astype(\"float32\") / 255\n",
    "# Make sure images have shape (28, 28, 1)\n",
    "x_train = np.expand_dims(x_train, -1)\n",
    "x_test = np.expand_dims(x_test, -1)\n",
    "print(\"x_train shape:\", x_train.shape)\n",
    "print(x_train.shape[0], \"train samples\")\n",
    "print(x_test.shape[0], \"test samples\")\n",
    "\n",
    "\n",
    "# convert class vectors to binary class matrices\n",
    "y_train = keras.utils.to_categorical(y_train, num_classes)\n",
    "y_test = keras.utils.to_categorical(y_test, num_classes)"
   ]
  },
  {
   "cell_type": "markdown",
   "metadata": {},
   "source": [
    "Let's write a function that will create model based on the arguments that are passed into the function. \n",
    "You have to write the the lines whose descriptions are given in the comments."
   ]
  },
  {
   "cell_type": "code",
   "execution_count": 19,
   "metadata": {},
   "outputs": [],
   "source": [
    "def create_model(\n",
    "    number_of_layers=2, \n",
    "    number_of_conv_kernels=[32,16],\n",
    "    kernel_size_conv = [(3,3), (3,3)],\n",
    "    padding_conv=\"valid\",\n",
    "    strides_conv=(1,1),\n",
    "    pool_size=(2,2),\n",
    "    is_pooling_average=False):\n",
    "    \n",
    "    if len(number_of_conv_kernels) != number_of_layers:\n",
    "        raise ValueError('Number of elements in the number_of_conv_kernels should be equal to number_of_layers')\n",
    "    if len(kernel_size_conv) != number_of_layers:\n",
    "        raise ValueError('Number of elements in the number_of_conv_kernels should be equal to number_of_layers')\n",
    "\n",
    "    model = keras.Sequential()\n",
    "    model.add(keras.Input(shape=input_shape))\n",
    "\n",
    "    for i in range(number_of_layers):\n",
    "\n",
    "        # todo: write one line that:\n",
    "        #   - creates a Conv2D layer; set the number of kernels;\n",
    "        #   - sets the kernel size, strides, padding based on the values from the arguments of the function and activation function as 'relu';\n",
    "        #   - adds the created layer into the model\n",
    "\n",
    "\n",
    "        # todo: write 4 line that will create either AveragePooling2D or MaxPooling2D\n",
    "        #   based on the is_pooling_average value passed into the function\n",
    "        #   and sets the pool size based on the argument passed into the function\n",
    "\n",
    "    model.add(layers.Flatten())\n",
    "    model.add(layers.Dense(num_classes, activation=\"softmax\"))\n",
    "    return model"
   ]
  },
  {
   "cell_type": "markdown",
   "metadata": {},
   "source": [
    "We will write a function that will compile and train the passed model and return the accuracy"
   ]
  },
  {
   "cell_type": "code",
   "execution_count": 20,
   "metadata": {},
   "outputs": [],
   "source": [
    "def train_model_and_get_accuracy(model):\n",
    "    batch_size = 128\n",
    "    epochs = 2\n",
    "\n",
    "    # todo: write one line of code to compile the model with:\n",
    "    #   - the categorical_crossentropy loss function\n",
    "    #   - use adam as optimizer\n",
    "    #   - use 'accuracy' as metrics\n",
    "\n",
    "\n",
    "    # todo: write one line of code to train the model:\n",
    "    #   - set the size of the batch size\n",
    "    #   - also, set train / validation dataset split as 90 / 10\n",
    "\n",
    "    score = model.evaluate(x_test, y_test, verbose=0)\n",
    "    return score[1]"
   ]
  },
  {
   "cell_type": "markdown",
   "metadata": {},
   "source": [
    "We can create several different combinations of parameters to try CNN models in different situations. Try to change the parameters that will increase the model accuracy."
   ]
  },
  {
   "cell_type": "code",
   "execution_count": 34,
   "metadata": {},
   "outputs": [
    {
     "name": "stdout",
     "output_type": "stream",
     "text": [
      "Epoch 1/2\n",
      "422/422 [==============================] - 23s 54ms/step - loss: 0.4104 - accuracy: 0.8852 - val_loss: 0.1057 - val_accuracy: 0.9678\n",
      "Epoch 2/2\n",
      "422/422 [==============================] - 22s 52ms/step - loss: 0.1049 - accuracy: 0.9679 - val_loss: 0.0776 - val_accuracy: 0.9768\n",
      "{\n",
      "    \"items\": [\n",
      "        {\n",
      "            \"model arguments\": {\n",
      "                \"number_of_layers\": 2,\n",
      "                \"number_of_conv_kernels\": [\n",
      "                    64,\n",
      "                    32\n",
      "                ],\n",
      "                \"kernel_size_conv\": [\n",
      "                    [\n",
      "                        3,\n",
      "                        3\n",
      "                    ],\n",
      "                    [\n",
      "                        3,\n",
      "                        3\n",
      "                    ]\n",
      "                ],\n",
      "                \"padding_conv\": \"same\",\n",
      "                \"strides_conv\": [\n",
      "                    1,\n",
      "                    1\n",
      "                ],\n",
      "                \"pool_size\": [\n",
      "                    3,\n",
      "                    3\n",
      "                ],\n",
      "                \"is_pooling_average\": false\n",
      "            },\n",
      "            \"trainable param count\": 21994,\n",
      "            \"accuracy\": 0.9745000004768372\n",
      "        }\n",
      "    ]\n",
      "}\n"
     ]
    }
   ],
   "source": [
    "import json\n",
    "\n",
    "param1 = dict(number_of_layers=2, \n",
    "    number_of_conv_kernels=[32,16],\n",
    "    kernel_size_conv = [(3,3), (3,3)],\n",
    "    padding_conv=\"valid\",\n",
    "    strides_conv=(1,1),\n",
    "    pool_size=(2,2),\n",
    "    is_pooling_average=False)\n",
    "\n",
    "param2 = dict(number_of_layers=3, \n",
    "    number_of_conv_kernels=[32,16,16],\n",
    "    kernel_size_conv = [(3,3), (3,3), (3,3)],\n",
    "    padding_conv=\"valid\",\n",
    "    strides_conv=(1,1),\n",
    "    pool_size=(2,2),\n",
    "    is_pooling_average=False)\n",
    "\n",
    "param3 = dict(number_of_layers=2, \n",
    "    number_of_conv_kernels=[32,16],\n",
    "    kernel_size_conv = [(3,3), (3,3)],\n",
    "    padding_conv=\"valid\",\n",
    "    strides_conv=(1,1),\n",
    "    pool_size=(2,2),\n",
    "    is_pooling_average=True)\n",
    "\n",
    "\n",
    "param4 = dict(number_of_layers=2, \n",
    "    number_of_conv_kernels=[64,32],\n",
    "    kernel_size_conv = [(3,3), (3,3)],\n",
    "    padding_conv=\"same\",\n",
    "    strides_conv=(1,1),\n",
    "    pool_size=(3,3),\n",
    "    is_pooling_average=False)\n",
    "\n",
    "param_list = [param1, param2, param3, param4]\n",
    "\n",
    "model_list = [create_model(**param) for param in param_list]\n",
    "\n",
    "result_list = [train_model_and_get_accuracy(model) for model in model_list]\n",
    "\n",
    "final_result = []\n",
    "\n",
    "\n",
    "for i in range(len(param_list)):\n",
    "    item = {\n",
    "        'model arguments': param_list[i],\n",
    "        'trainable param count': model_list[i].count_params(),\n",
    "        'accuracy': result_list[i]\n",
    "    }\n",
    "    final_result.append(item)\n",
    "\n",
    "final_result_json = {\n",
    "    'items': final_result\n",
    "}\n",
    "\n",
    "print(json.dumps(final_result_json, indent = 4))"
   ]
  }
 ],
 "metadata": {
  "kernelspec": {
   "display_name": "Python 3.8.8 ('env': venv)",
   "language": "python",
   "name": "python3"
  },
  "language_info": {
   "codemirror_mode": {
    "name": "ipython",
    "version": 3
   },
   "file_extension": ".py",
   "mimetype": "text/x-python",
   "name": "python",
   "nbconvert_exporter": "python",
   "pygments_lexer": "ipython3",
   "version": "3.8.8"
  },
  "orig_nbformat": 4,
  "vscode": {
   "interpreter": {
    "hash": "6df0ddd77085922c773681b1c23afa6ec355a7eb5a25c833f534ec75c0111436"
   }
  }
 },
 "nbformat": 4,
 "nbformat_minor": 2
}
