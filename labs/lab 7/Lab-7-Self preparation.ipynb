{
 "cells": [
  {
   "cell_type": "markdown",
   "id": "6656718a",
   "metadata": {},
   "source": [
    "# Lab-7: ANN in Pytorch (Self-preparation)\n",
    "\n",
    "This notebook is designed to facilitate the passing of Lab 7, dedicated to artificial neural networks. Here you can pick up some Python stuff in advance or use this notebook during the lab.    "
   ]
  },
  {
   "cell_type": "markdown",
   "id": "cb798db3",
   "metadata": {},
   "source": [
    "#### 1) Libraries \n",
    "\n",
    "If you run Jupyter locally, you're **highly recommended** to download these packages before the class, because it can take some time:"
   ]
  },
  {
   "cell_type": "code",
   "execution_count": 1,
   "id": "5511b4f8",
   "metadata": {},
   "outputs": [
    {
     "name": "stdout",
     "output_type": "stream",
     "text": [
      "Requirement already satisfied: torch in c:\\users\\hp\\desktop\\progs\\ml\\venv\\lib\\site-packages (1.13.1)\n",
      "Requirement already satisfied: typing-extensions in c:\\users\\hp\\desktop\\progs\\ml\\venv\\lib\\site-packages (from torch) (4.5.0)\n",
      "Requirement already satisfied: torchvision in c:\\users\\hp\\desktop\\progs\\ml\\venv\\lib\\site-packages (0.14.1)\n",
      "Requirement already satisfied: numpy in c:\\users\\hp\\desktop\\progs\\ml\\venv\\lib\\site-packages (from torchvision) (1.24.1)\n",
      "Requirement already satisfied: requests in c:\\users\\hp\\desktop\\progs\\ml\\venv\\lib\\site-packages (from torchvision) (2.28.2)\n",
      "Requirement already satisfied: torch==1.13.1 in c:\\users\\hp\\desktop\\progs\\ml\\venv\\lib\\site-packages (from torchvision) (1.13.1)\n",
      "Requirement already satisfied: typing-extensions in c:\\users\\hp\\desktop\\progs\\ml\\venv\\lib\\site-packages (from torchvision) (4.5.0)\n",
      "Requirement already satisfied: pillow!=8.3.*,>=5.3.0 in c:\\users\\hp\\desktop\\progs\\ml\\venv\\lib\\site-packages (from torchvision) (9.4.0)\n",
      "Requirement already satisfied: urllib3<1.27,>=1.21.1 in c:\\users\\hp\\desktop\\progs\\ml\\venv\\lib\\site-packages (from requests->torchvision) (1.26.14)\n",
      "Requirement already satisfied: charset-normalizer<4,>=2 in c:\\users\\hp\\desktop\\progs\\ml\\venv\\lib\\site-packages (from requests->torchvision) (3.1.0)\n",
      "Requirement already satisfied: idna<4,>=2.5 in c:\\users\\hp\\desktop\\progs\\ml\\venv\\lib\\site-packages (from requests->torchvision) (3.4)\n",
      "Requirement already satisfied: certifi>=2017.4.17 in c:\\users\\hp\\desktop\\progs\\ml\\venv\\lib\\site-packages (from requests->torchvision) (2022.12.7)\n",
      "Requirement already satisfied: tqdm in c:\\users\\hp\\desktop\\progs\\ml\\venv\\lib\\site-packages (4.65.0)\n",
      "Requirement already satisfied: colorama in c:\\users\\hp\\desktop\\progs\\ml\\venv\\lib\\site-packages (from tqdm) (0.4.6)\n"
     ]
    }
   ],
   "source": [
    "!pip3 install torch\n",
    "!pip3 install torchvision\n",
    "!pip3 install tqdm"
   ]
  },
  {
   "cell_type": "markdown",
   "id": "310b6e36",
   "metadata": {},
   "source": [
    "#### 2) Pytorch library \n",
    "\n",
    "You're are going to work with a new framework for training deep neural networks, called **Pytorch**. We will start its exploring from the very beginning together, but if you feel that you need more time, you can do it right now from these tutorials: \n",
    "\n",
    "1. [Pytorch with examples](https://pytorch.org/tutorials/beginner/pytorch_with_examples.html)\n",
    "2. [Operation on tensors, [1]](https://pytorch.org/tutorials/beginner/basics/tensorqs_tutorial.html), [[2]](https://www.geeksforgeeks.org/reshaping-a-tensor-in-pytorch/)\n",
    "3. [How to create a neural network in Pytorch](https://pytorch.org/tutorials/beginner/examples_nn/polynomial_module.html)\n",
    "\n",
    "Please, pay attention to arithmetic operations (`matmul`, `sum`); reshaping the tensors; submodules of Pytorch ([`torch.nn`](https://pytorch.org/docs/stable/generated/torch.nn.Linear.html#linear), [`torch.nn.functional`](https://pytorch.org/docs/stable/nn.functional.html#non-linear-activation-functions), [`torchvision`](https://www.tutorialspoint.com/how-to-load-a-computer-vision-dataset-in-pytorch)). \n",
    "\n",
    "Don't worry if most of these terms mean nothing for you now. We will cover them during the lab, while you may use these references.\n",
    "\n",
    "**Self-checking questions**:\n",
    "1. How to get the shape of a torch.tensor?\n",
    "2. How to compute the gradient of an arbitrary function on torch.tensor? How is `backward()` used here? \n",
    "3. How to convert a torch.tensor object to numpy.array?\n",
    "4. Which class in torch.nn is a parent for custom models? How to predict (i.e. which method to invoke) a class of input sample by such a network? \n",
    "5. Which methods should you override in the custom model class to finish the declaration of neural network? "
   ]
  },
  {
   "cell_type": "markdown",
   "id": "d0743283",
   "metadata": {},
   "source": [
    "#### 3) OOP in Python\n",
    "\n",
    "We are going to implement neural networks as classes, so it might be helpful to refresh your knowledge about OOP. Refer to the first Lab to recall how Python deals with classes: how constructors are defined, how to access to the fields of class, how [inheritance](https://www.w3schools.com/python/python_inheritance.asp) is implemented. Also pay attention to the keywords [with](https://www.geeksforgeeks.org/with-statement-in-python/) and [next, iter](https://www.programiz.com/python-programming/iterator). \n",
    "\n",
    "**Self-checking questions**:\n",
    "1. How to refer to the parent class in Python?\n",
    "2. Why do we need `self` in classes?\n",
    "3. What does a constructor look like?"
   ]
  }
 ],
 "metadata": {
  "kernelspec": {
   "display_name": "Python 3 (ipykernel)",
   "language": "python",
   "name": "python3"
  },
  "language_info": {
   "codemirror_mode": {
    "name": "ipython",
    "version": 3
   },
   "file_extension": ".py",
   "mimetype": "text/x-python",
   "name": "python",
   "nbconvert_exporter": "python",
   "pygments_lexer": "ipython3",
   "version": "3.10.10"
  }
 },
 "nbformat": 4,
 "nbformat_minor": 5
}
